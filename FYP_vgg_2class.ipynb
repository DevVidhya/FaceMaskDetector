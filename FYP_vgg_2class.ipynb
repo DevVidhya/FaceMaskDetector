{
  "nbformat": 4,
  "nbformat_minor": 0,
  "metadata": {
    "colab": {
      "name": "FYP - vgg.ipynb",
      "provenance": [],
      "collapsed_sections": []
    },
    "kernelspec": {
      "name": "python3",
      "display_name": "Python 3"
    }
  },
  "cells": [
    {
      "cell_type": "code",
      "metadata": {
        "id": "gJ65KgGJN4wH"
      },
      "source": [
        " ! pip install -q kaggle"
      ],
      "execution_count": null,
      "outputs": []
    },
    {
      "cell_type": "code",
      "metadata": {
        "id": "S9FwTAbnSUB1",
        "colab": {
          "resources": {
            "http://localhost:8080/nbextensions/google.colab/files.js": {
              "data": "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",
              "ok": true,
              "headers": [
                [
                  "content-type",
                  "application/javascript"
                ]
              ],
              "status": 200,
              "status_text": ""
            }
          },
          "base_uri": "https://localhost:8080/",
          "height": 91
        },
        "outputId": "35f9cdba-3e1b-42c2-9d32-230efe4255ee"
      },
      "source": [
        "from google.colab import files\n",
        "\n",
        "files.upload()"
      ],
      "execution_count": null,
      "outputs": [
        {
          "output_type": "display_data",
          "data": {
            "text/html": [
              "\n",
              "     <input type=\"file\" id=\"files-9f5abaef-f73e-46f1-9439-e0572754bf30\" name=\"files[]\" multiple disabled\n",
              "        style=\"border:none\" />\n",
              "     <output id=\"result-9f5abaef-f73e-46f1-9439-e0572754bf30\">\n",
              "      Upload widget is only available when the cell has been executed in the\n",
              "      current browser session. Please rerun this cell to enable.\n",
              "      </output>\n",
              "      <script src=\"/nbextensions/google.colab/files.js\"></script> "
            ],
            "text/plain": [
              "<IPython.core.display.HTML object>"
            ]
          },
          "metadata": {
            "tags": []
          }
        },
        {
          "output_type": "stream",
          "text": [
            "Saving kaggle.json to kaggle.json\n"
          ],
          "name": "stdout"
        },
        {
          "output_type": "execute_result",
          "data": {
            "text/plain": [
              "{'kaggle.json': b'{\"username\":\"sruthikuriak\",\"key\":\"99434af76be232f0a50bba71aa5d475c\"}'}"
            ]
          },
          "metadata": {
            "tags": []
          },
          "execution_count": 29
        }
      ]
    },
    {
      "cell_type": "code",
      "metadata": {
        "id": "P7J59IpxTAxD",
        "colab": {
          "base_uri": "https://localhost:8080/"
        },
        "outputId": "69593dad-0932-49a3-fc02-e80e320e10ff"
      },
      "source": [
        "! mkdir ~/.kaggle\n",
        "! cp kaggle.json ~/.kaggle/"
      ],
      "execution_count": null,
      "outputs": [
        {
          "output_type": "stream",
          "text": [
            "mkdir: cannot create directory ‘/root/.kaggle’: File exists\n"
          ],
          "name": "stdout"
        }
      ]
    },
    {
      "cell_type": "code",
      "metadata": {
        "id": "yGeqTshDTHWc"
      },
      "source": [
        " ! chmod 600 ~/.kaggle/kaggle.json"
      ],
      "execution_count": null,
      "outputs": []
    },
    {
      "cell_type": "code",
      "metadata": {
        "id": "XrIs1tkoT10b",
        "colab": {
          "base_uri": "https://localhost:8080/"
        },
        "outputId": "5622f05e-62cb-48c8-830e-737443c516d4"
      },
      "source": [
        "!kaggle datasets download -d andrewmvd/face-mask-detection "
      ],
      "execution_count": null,
      "outputs": [
        {
          "output_type": "stream",
          "text": [
            "Downloading face-mask-detection.zip to /content\n",
            " 99% 394M/398M [00:13<00:00, 35.5MB/s]\n",
            "100% 398M/398M [00:13<00:00, 30.5MB/s]\n"
          ],
          "name": "stdout"
        }
      ]
    },
    {
      "cell_type": "code",
      "metadata": {
        "id": "TD6r6w8yELtX"
      },
      "source": [
        "! pip install --upgrade tensorflow\n",
        "! pip install --upgrade tensorflow-addons"
      ],
      "execution_count": null,
      "outputs": []
    },
    {
      "cell_type": "code",
      "metadata": {
        "id": "gPcZGXjYUUuu"
      },
      "source": [
        "\n",
        "# to deal with file system\n",
        "import os\n",
        "# for reading images\n",
        "import cv2\n",
        "# to read and process xml files\n",
        "from bs4 import BeautifulSoup\n",
        "\n",
        "import numpy as np\n",
        "import pandas as pd\n",
        "from matplotlib import pyplot as plt\n",
        "%matplotlib inline\n",
        "\n",
        "# preprocessing images\n",
        "from tensorflow.keras.preprocessing.image import ImageDataGenerator\n",
        "from tensorflow.keras.utils import to_categorical\n",
        "\n",
        "# for train and validation split\n",
        "from sklearn.model_selection import train_test_split\n",
        "\n",
        "# modelling with VGG19\n",
        "from tensorflow.keras.applications import  VGG19\n",
        "model_name = 'vgg_19'\n",
        "from tensorflow.keras.applications.vgg19  import preprocess_input as vgg_preprocess_input\n",
        "from tensorflow.keras import Model\n",
        "from tensorflow.keras.layers import MaxPooling2D, AveragePooling2D, Dropout, BatchNormalization, Flatten, Dense, Input\n",
        "from tensorflow.keras.optimizers import Adam\n",
        "\n",
        "\n",
        "# for callbacks\n",
        "import time\n",
        "from tensorflow.keras.callbacks import Callback, ModelCheckpoint, EarlyStopping\n",
        "from datetime import datetime\n",
        "\n",
        "\n",
        "# model evaluation\n",
        "from tensorflow.keras.metrics import Recall, Precision\n",
        "from tensorflow_addons.metrics import F1Score\n",
        "from sklearn.metrics import classification_report, confusion_matrix\n"
      ],
      "execution_count": null,
      "outputs": []
    },
    {
      "cell_type": "code",
      "metadata": {
        "id": "jE5IMIBdYt7S"
      },
      "source": [
        "! unzip /content/face-mask-detection.zip"
      ],
      "execution_count": null,
      "outputs": []
    },
    {
      "cell_type": "code",
      "metadata": {
        "id": "6DU9pcpHXnJW",
        "colab": {
          "base_uri": "https://localhost:8080/"
        },
        "outputId": "caa43a2a-20b4-420a-a76c-b45634d27de6"
      },
      "source": [
        "# setting some parameters\n",
        "image_size = 224 # this is the size that gave me better results than default size of 224\n",
        "validation_split_size = 0.20 # 20% will be used for validation\n",
        "\n",
        "# define the hyperparamets for training the neural network\n",
        "batch_size = 32\n",
        "init_lr = 0.0_001\n",
        "num_epochs = 100\n",
        "\n",
        "# directories\n",
        "labels_path = '/content/annotations/'\n",
        "images_path = '/content/images/'\n",
        "\n",
        "#!mkdir './VGG19'\n",
        "save_vgg19 = './VGG19/'"
      ],
      "execution_count": null,
      "outputs": [
        {
          "output_type": "stream",
          "text": [
            "mkdir: cannot create directory ‘./VGG19’: File exists\n"
          ],
          "name": "stdout"
        }
      ]
    },
    {
      "cell_type": "code",
      "metadata": {
        "id": "DwyZr0owhzCi",
        "colab": {
          "base_uri": "https://localhost:8080/"
        },
        "outputId": "1f1ad4a4-dab1-4317-90c1-13f1989058e0"
      },
      "source": [
        "images = sorted(os.listdir(\"../content/images/\"))\n",
        "labels = sorted(os.listdir(\"../content/annotations/\"))\n",
        "\n",
        "\n",
        "len(images) == len(labels), len(images), len(labels)"
      ],
      "execution_count": null,
      "outputs": [
        {
          "output_type": "execute_result",
          "data": {
            "text/plain": [
              "(True, 853, 853)"
            ]
          },
          "metadata": {
            "tags": []
          },
          "execution_count": 37
        }
      ]
    },
    {
      "cell_type": "code",
      "metadata": {
        "id": "hPITtWqIjAfZ"
      },
      "source": [
        "def generate_label_dictionary(xml_loc): \n",
        "    \"\"\"\n",
        "    takes location to image and xml files on file system and return the image as numpy array and extracted bounding boxes\n",
        "    \"\"\"\n",
        "    with open(xml_loc) as xml_file:\n",
        "        # read the input file\n",
        "        soup = BeautifulSoup(xml_file.read(), 'xml')\n",
        "        objects = soup.find_all('object')\n",
        "\n",
        "        # extract the number of persons in an image\n",
        "        num_persons = len(objects)\n",
        "\n",
        "        # to store all the points for boundary boxes and target labels\n",
        "        boxes = []\n",
        "        labels = []\n",
        "        # doing it now\n",
        "        for obj in objects:\n",
        "            # extract output class and append it to 'boxes' list\n",
        "            if obj.find('name').text == \"without_mask\":\n",
        "                labels.append(0)\n",
        "            elif obj.find('name').text == \"mask_weared_incorrect\":\n",
        "                labels.append(1)\n",
        "            elif obj.find('name').text == \"with_mask\":\n",
        "                labels.append(2)\n",
        "            else:\n",
        "                break\n",
        "            \n",
        "            # extract bounding box and append it to 'labels' list\n",
        "            xmin = int(obj.find('xmin').text)\n",
        "            ymin = int(obj.find('ymin').text)\n",
        "            xmax = int(obj.find('xmax').text)\n",
        "            ymax = int(obj.find('ymax').text)\n",
        "            boxes.append([xmin, ymin, xmax, ymax])\n",
        "        \n",
        "\n",
        "        # converting them to numpy arrays\n",
        "        boxes = np.array(boxes)\n",
        "        labels = np.array(labels)\n",
        "\n",
        "        # save them to dictionary\n",
        "        target = {}\n",
        "        target[\"labels\"] = labels\n",
        "        target[\"boxes\"] = boxes\n",
        "\n",
        "        return target, num_persons"
      ],
      "execution_count": null,
      "outputs": []
    },
    {
      "cell_type": "code",
      "metadata": {
        "id": "I40HE4pmjPwL"
      },
      "source": [
        "targets=[] # store coordinates of bounding boxes\n",
        "num_persons=[] # stores number of faces in each image\n",
        "\n",
        "#run the loop for number of images we have\n",
        "for label_path in labels:\n",
        "    # generate label\n",
        "    target_image, num_persons_image = generate_label_dictionary(labels_path+label_path)\n",
        "    targets.append(target_image)\n",
        "    num_persons.append(num_persons_image)"
      ],
      "execution_count": null,
      "outputs": []
    },
    {
      "cell_type": "code",
      "metadata": {
        "id": "M_rDHup3jUL8",
        "colab": {
          "base_uri": "https://localhost:8080/"
        },
        "outputId": "2bdbbbdc-ec67-4e61-9d62-287cec977c6a"
      },
      "source": [
        "print(len(targets))\n",
        "print()\n",
        "print(targets[0: 100: 10])\n",
        "print()\n",
        "print(num_persons[0: 100: 10])"
      ],
      "execution_count": null,
      "outputs": [
        {
          "output_type": "stream",
          "text": [
            "853\n",
            "\n",
            "[{'labels': array([0, 2, 0]), 'boxes': array([[ 79, 105, 109, 142],\n",
            "       [185, 100, 226, 144],\n",
            "       [325,  90, 360, 141]])}, {'labels': array([2]), 'boxes': array([[121, 192, 212, 312]])}, {'labels': array([2, 2, 2, 2, 2]), 'boxes': array([[116,  88, 150, 122],\n",
            "       [160,  79, 193, 118],\n",
            "       [235,  43, 272,  87],\n",
            "       [304,  68, 336, 102],\n",
            "       [379,  61, 399,  96]])}, {'labels': array([0]), 'boxes': array([[118, 151, 216, 279]])}, {'labels': array([2, 0, 2, 2, 2, 0, 2]), 'boxes': array([[ 92,  19, 117,  50],\n",
            "       [156,  22, 177,  48],\n",
            "       [179,  24, 197,  47],\n",
            "       [183,  74, 205, 100],\n",
            "       [269,  70, 285,  89],\n",
            "       [343,  15, 359,  34],\n",
            "       [302,  43, 318,  59]])}, {'labels': array([2]), 'boxes': array([[102, 200, 194, 333]])}, {'labels': array([2, 2, 2, 2, 2, 2, 2]), 'boxes': array([[ 66,  25,  82,  48],\n",
            "       [101,  41, 124,  68],\n",
            "       [173,  34, 193,  60],\n",
            "       [204,  75, 225,  99],\n",
            "       [289,  25, 312,  54],\n",
            "       [350,  17, 368,  39],\n",
            "       [152,  50, 167,  65]])}, {'labels': array([0]), 'boxes': array([[123, 227, 190, 328]])}, {'labels': array([2]), 'boxes': array([[102,  54, 239, 210]])}, {'labels': array([2, 2]), 'boxes': array([[134,  86, 192, 148],\n",
            "       [299, 159, 354, 217]])}]\n",
            "\n",
            "[3, 1, 5, 1, 7, 1, 7, 1, 1, 2]\n"
          ],
          "name": "stdout"
        }
      ]
    },
    {
      "cell_type": "code",
      "metadata": {
        "id": "sGepmuIZj16U",
        "colab": {
          "base_uri": "https://localhost:8080/"
        },
        "outputId": "37f5e92a-752e-4b28-a620-7a5df6162906"
      },
      "source": [
        "face_images = []\n",
        "face_labels = []\n",
        "\n",
        "# read each image from the file system and extract only the faces using the boundaries extracted in previous step\n",
        "for i, image_path in enumerate(images):\n",
        "    image_read = cv2.imread(images_path+image_path, cv2.IMREAD_COLOR)\n",
        "    # get co-ordinates of the image\n",
        "    for j in range(0, num_persons[i]):\n",
        "        # get the locations of boundary box now\n",
        "        face_locs = targets[i]['boxes'][j]\n",
        "        # extract the face now using those co-ordinates\n",
        "        temp_face = image_read[face_locs[1]:face_locs[3], face_locs[0]:face_locs[2]]\n",
        "        temp_face = cv2.resize(temp_face, (image_size, image_size))\n",
        "        temp_face = vgg_preprocess_input(temp_face)\n",
        "        \n",
        "        # store this processed image to list now\n",
        "        face_images.append(temp_face)\n",
        "        # store it's respective label too\n",
        "        face_labels.append(targets[i]['labels'][j])\n",
        "\n",
        "# convert them to numpy arrays\n",
        "face_images = np.array(face_images, dtype=np.float32)\n",
        "face_labels = np.array(face_labels)\n",
        "print(face_images.shape, face_labels.shape)"
      ],
      "execution_count": null,
      "outputs": [
        {
          "output_type": "stream",
          "text": [
            "(4072, 224, 224, 3) (4072,)\n"
          ],
          "name": "stdout"
        }
      ]
    },
    {
      "cell_type": "code",
      "metadata": {
        "id": "Aouwgse3kM3Y",
        "colab": {
          "base_uri": "https://localhost:8080/"
        },
        "outputId": "1b0db82f-7668-4db1-b2d3-fc423f4d682c"
      },
      "source": [
        "np.unique(face_labels, return_counts=True)"
      ],
      "execution_count": null,
      "outputs": [
        {
          "output_type": "execute_result",
          "data": {
            "text/plain": [
              "(array([0, 1, 2]), array([ 717,  123, 3232]))"
            ]
          },
          "metadata": {
            "tags": []
          },
          "execution_count": 42
        }
      ]
    },
    {
      "cell_type": "code",
      "metadata": {
        "id": "uorvvBgXkS9Z"
      },
      "source": [
        "def show_face_and_label(index):\n",
        "    plt.imshow(face_images[index])\n",
        "    plt.show()\n",
        "\n",
        "    face_label_num = face_labels[index]\n",
        "\n",
        "    if face_label_num == 0:\n",
        "        face_label_text = \"doesn't have a mask on.\"\n",
        "    elif face_label_num == 1:\n",
        "        face_label_text = \"wore mask improperly.\"\n",
        "    elif face_label_num == 2:\n",
        "        face_label_text = \"has a mask on.\"\n",
        "    else:\n",
        "        face_label_text = \"error\"\n",
        "    return 'person {}'.format(face_label_text)"
      ],
      "execution_count": null,
      "outputs": []
    },
    {
      "cell_type": "code",
      "metadata": {
        "id": "krofX5GUklXf"
      },
      "source": [
        "#show_face_and_label(2)\n",
        "#show_face_and_label(46)\n",
        "#show_face_and_label(47)"
      ],
      "execution_count": null,
      "outputs": []
    },
    {
      "cell_type": "code",
      "metadata": {
        "id": "OvusiE0lk0_F",
        "colab": {
          "base_uri": "https://localhost:8080/"
        },
        "outputId": "5b3f9448-df97-45f6-c715-d46b1aa9f5f4"
      },
      "source": [
        "# since one-hot encoding need to be done for \n",
        "face_labels_enc = to_categorical(face_labels)\n",
        "face_labels_enc"
      ],
      "execution_count": null,
      "outputs": [
        {
          "output_type": "execute_result",
          "data": {
            "text/plain": [
              "array([[1., 0., 0.],\n",
              "       [0., 0., 1.],\n",
              "       [1., 0., 0.],\n",
              "       ...,\n",
              "       [0., 1., 0.],\n",
              "       [0., 0., 1.],\n",
              "       [0., 0., 1.]], dtype=float32)"
            ]
          },
          "metadata": {
            "tags": []
          },
          "execution_count": 45
        }
      ]
    },
    {
      "cell_type": "code",
      "metadata": {
        "id": "klPrhA-ylBTf",
        "colab": {
          "base_uri": "https://localhost:8080/"
        },
        "outputId": "dbce553a-bda0-449f-b570-6ba9a5111885"
      },
      "source": [
        "pd.DataFrame(face_labels_enc).apply(pd.Series.value_counts, normalize=False).to_dict()"
      ],
      "execution_count": null,
      "outputs": [
        {
          "output_type": "execute_result",
          "data": {
            "text/plain": [
              "{0: {0.0: 3355, 1.0: 717}, 1: {0.0: 3949, 1.0: 123}, 2: {0.0: 840, 1.0: 3232}}"
            ]
          },
          "metadata": {
            "tags": []
          },
          "execution_count": 46
        }
      ]
    },
    {
      "cell_type": "code",
      "metadata": {
        "id": "7-78rZBHlKNy",
        "colab": {
          "base_uri": "https://localhost:8080/"
        },
        "outputId": "47c93dd1-753f-4272-c476-fb6473ba5d76"
      },
      "source": [
        "pd.DataFrame(face_labels_enc).apply(pd.Series.value_counts, normalize=True).to_dict()"
      ],
      "execution_count": null,
      "outputs": [
        {
          "output_type": "execute_result",
          "data": {
            "text/plain": [
              "{0: {0.0: 0.8239194499017681, 1.0: 0.17608055009823181},\n",
              " 1: {0.0: 0.9697937131630648, 1.0: 0.030206286836935166},\n",
              " 2: {0.0: 0.206286836935167, 1.0: 0.793713163064833}}"
            ]
          },
          "metadata": {
            "tags": []
          },
          "execution_count": 47
        }
      ]
    },
    {
      "cell_type": "code",
      "metadata": {
        "id": "44kJMmLxlRgY",
        "colab": {
          "base_uri": "https://localhost:8080/"
        },
        "outputId": "796bbaba-74d7-4c4f-cc01-f025e151c0dc"
      },
      "source": [
        "train_imgs, val_imgs, train_targets, val_targets = train_test_split(face_images, face_labels_enc,\n",
        "                                                                    stratify=face_labels_enc,\n",
        "                                                                    test_size=validation_split_size, random_state=100, shuffle=True)\n",
        "\n",
        "train_imgs.shape, val_imgs.shape, train_targets.shape, val_targets.shape"
      ],
      "execution_count": null,
      "outputs": [
        {
          "output_type": "execute_result",
          "data": {
            "text/plain": [
              "((3257, 224, 224, 3), (815, 224, 224, 3), (3257, 3), (815, 3))"
            ]
          },
          "metadata": {
            "tags": []
          },
          "execution_count": 48
        }
      ]
    },
    {
      "cell_type": "code",
      "metadata": {
        "id": "fmvC6kAilZA8",
        "colab": {
          "base_uri": "https://localhost:8080/"
        },
        "outputId": "ddcf7e51-8dbe-4885-c147-77b4942a7d68"
      },
      "source": [
        "# ensuring that the samples are stratified between train and test splits to validate the model right way\n",
        "print(pd.DataFrame(train_targets).apply(pd.Series.value_counts, normalize=True))\n",
        "print()\n",
        "print(pd.DataFrame(val_targets).apply(pd.Series.value_counts, normalize=True))"
      ],
      "execution_count": null,
      "outputs": [
        {
          "output_type": "stream",
          "text": [
            "            0         1         2\n",
            "0.0  0.823764  0.969911  0.206325\n",
            "1.0  0.176236  0.030089  0.793675\n",
            "\n",
            "           0         1         2\n",
            "0.0  0.82454  0.969325  0.206135\n",
            "1.0  0.17546  0.030675  0.793865\n"
          ],
          "name": "stdout"
        }
      ]
    },
    {
      "cell_type": "code",
      "metadata": {
        "id": "yjjUM-1xlgRY"
      },
      "source": [
        "face_images, face_labels, face_labels_enc, face_locs, num_persons, targets, images, labels = None, None, None, None, None, None, None, None\n",
        "del face_images, face_labels, face_labels_enc, face_locs, num_persons, targets, images, labels\n",
        "# RAM usage after this = ~3.7GB (reduction of more than 3.5 GB)"
      ],
      "execution_count": null,
      "outputs": []
    },
    {
      "cell_type": "markdown",
      "metadata": {
        "id": "gY6YTxlUllbZ"
      },
      "source": [
        "making image generator"
      ]
    },
    {
      "cell_type": "code",
      "metadata": {
        "id": "n-3mRbs7lmru"
      },
      "source": [
        "train_image_generator = ImageDataGenerator(zoom_range=0.1, width_shift_range=0.1, height_shift_range=0.1,\n",
        "                                           shear_range=0.15,fill_mode=\"nearest\")"
      ],
      "execution_count": null,
      "outputs": []
    },
    {
      "cell_type": "markdown",
      "metadata": {
        "id": "4UGVBOSCls-K"
      },
      "source": [
        "defining and training model"
      ]
    },
    {
      "cell_type": "code",
      "metadata": {
        "id": "S4cIK6O7rUgN",
        "colab": {
          "base_uri": "https://localhost:8080/"
        },
        "outputId": "b7fe3c72-0ee1-475d-e8ac-77b8bc344969"
      },
      "source": [
        "vgg19_base = VGG19(include_top=False, pooling=None,\n",
        "                   input_shape=(image_size, image_size, 3)) # with max pooling (None, 2048)\n",
        "\n",
        "\n",
        "inner = vgg19_base.output\n",
        "\n",
        "\n",
        "## only the followeing layers will be trained or weights updated will only be of below layers\n",
        "inner = AveragePooling2D(pool_size=(7, 7))(inner)\n",
        "inner = Flatten()(inner)\n",
        "inner = Dense(units=256, activation='relu')(inner)\n",
        "inner = Dropout(rate=0.25)(inner)\n",
        "inner = Dense(units=3, activation='softmax')(inner)\n",
        "\n",
        "\n",
        "model_1 = Model(inputs=vgg19_base.input, outputs=inner)\n",
        "\n",
        "\n",
        "model_1.summary()"
      ],
      "execution_count": null,
      "outputs": [
        {
          "output_type": "stream",
          "text": [
            "Downloading data from https://storage.googleapis.com/tensorflow/keras-applications/vgg19/vgg19_weights_tf_dim_ordering_tf_kernels_notop.h5\n",
            "80142336/80134624 [==============================] - 2s 0us/step\n",
            "Model: \"model\"\n",
            "_________________________________________________________________\n",
            "Layer (type)                 Output Shape              Param #   \n",
            "=================================================================\n",
            "input_1 (InputLayer)         [(None, 224, 224, 3)]     0         \n",
            "_________________________________________________________________\n",
            "block1_conv1 (Conv2D)        (None, 224, 224, 64)      1792      \n",
            "_________________________________________________________________\n",
            "block1_conv2 (Conv2D)        (None, 224, 224, 64)      36928     \n",
            "_________________________________________________________________\n",
            "block1_pool (MaxPooling2D)   (None, 112, 112, 64)      0         \n",
            "_________________________________________________________________\n",
            "block2_conv1 (Conv2D)        (None, 112, 112, 128)     73856     \n",
            "_________________________________________________________________\n",
            "block2_conv2 (Conv2D)        (None, 112, 112, 128)     147584    \n",
            "_________________________________________________________________\n",
            "block2_pool (MaxPooling2D)   (None, 56, 56, 128)       0         \n",
            "_________________________________________________________________\n",
            "block3_conv1 (Conv2D)        (None, 56, 56, 256)       295168    \n",
            "_________________________________________________________________\n",
            "block3_conv2 (Conv2D)        (None, 56, 56, 256)       590080    \n",
            "_________________________________________________________________\n",
            "block3_conv3 (Conv2D)        (None, 56, 56, 256)       590080    \n",
            "_________________________________________________________________\n",
            "block3_conv4 (Conv2D)        (None, 56, 56, 256)       590080    \n",
            "_________________________________________________________________\n",
            "block3_pool (MaxPooling2D)   (None, 28, 28, 256)       0         \n",
            "_________________________________________________________________\n",
            "block4_conv1 (Conv2D)        (None, 28, 28, 512)       1180160   \n",
            "_________________________________________________________________\n",
            "block4_conv2 (Conv2D)        (None, 28, 28, 512)       2359808   \n",
            "_________________________________________________________________\n",
            "block4_conv3 (Conv2D)        (None, 28, 28, 512)       2359808   \n",
            "_________________________________________________________________\n",
            "block4_conv4 (Conv2D)        (None, 28, 28, 512)       2359808   \n",
            "_________________________________________________________________\n",
            "block4_pool (MaxPooling2D)   (None, 14, 14, 512)       0         \n",
            "_________________________________________________________________\n",
            "block5_conv1 (Conv2D)        (None, 14, 14, 512)       2359808   \n",
            "_________________________________________________________________\n",
            "block5_conv2 (Conv2D)        (None, 14, 14, 512)       2359808   \n",
            "_________________________________________________________________\n",
            "block5_conv3 (Conv2D)        (None, 14, 14, 512)       2359808   \n",
            "_________________________________________________________________\n",
            "block5_conv4 (Conv2D)        (None, 14, 14, 512)       2359808   \n",
            "_________________________________________________________________\n",
            "block5_pool (MaxPooling2D)   (None, 7, 7, 512)         0         \n",
            "_________________________________________________________________\n",
            "average_pooling2d (AveragePo (None, 1, 1, 512)         0         \n",
            "_________________________________________________________________\n",
            "flatten (Flatten)            (None, 512)               0         \n",
            "_________________________________________________________________\n",
            "dense (Dense)                (None, 256)               131328    \n",
            "_________________________________________________________________\n",
            "dropout (Dropout)            (None, 256)               0         \n",
            "_________________________________________________________________\n",
            "dense_1 (Dense)              (None, 3)                 771       \n",
            "=================================================================\n",
            "Total params: 20,156,483\n",
            "Trainable params: 20,156,483\n",
            "Non-trainable params: 0\n",
            "_________________________________________________________________\n"
          ],
          "name": "stdout"
        }
      ]
    },
    {
      "cell_type": "code",
      "metadata": {
        "id": "rC-DCxHErYvk"
      },
      "source": [
        "model_1.compile(loss = 'categorical_crossentropy',                             # \"multi log-loss\"  as loss\n",
        "                optimizer = Adam(lr=init_lr, decay=init_lr / num_epochs),      # \"adam\"            as optimiser\n",
        "                metrics = [Recall(name='recall'), 'accuracy',\n",
        "                           F1Score(average='macro', name='macro_f1', num_classes=3), # weighted_f1,\n",
        "                           F1Score(average='weighted', name='weighted_f1', num_classes=3),\n",
        "                           Precision(name='precision')])"
      ],
      "execution_count": null,
      "outputs": []
    },
    {
      "cell_type": "code",
      "metadata": {
        "id": "nWOL9e3Irgsh"
      },
      "source": [
        "model_save_cb = ModelCheckpoint(filepath= save_vgg19+model_name+'-epoch{epoch:03d}-recall-{val_recall:.5f}-acc-{val_accuracy:.5f}.h5',\n",
        "                                monitor='val_recall', mode='max', \n",
        "                                verbose=1, save_best_only=False, save_weights_only=True)\n",
        "# storing the complete model to be able to resume training should something happens and also to load the model with best fbeta score on validation set for evaluation\n",
        "\n",
        "\n",
        "# since recall is my primary metric of choice, i want the training to be stopped, when recall doesn't increase even after 15 epochs.\n",
        "early_stop_cb = EarlyStopping(monitor='val_recall', min_delta=0, patience=20, verbose=1, mode='max')"
      ],
      "execution_count": null,
      "outputs": []
    },
    {
      "cell_type": "code",
      "metadata": {
        "id": "0FJwuvG1rpxS",
        "colab": {
          "base_uri": "https://localhost:8080/"
        },
        "outputId": "06cf65ef-776a-4e1c-ae25-1c59ec8b6da0"
      },
      "source": [
        "history_vgg19 = model_1.fit(train_image_generator.flow(x=train_imgs, y=train_targets, batch_size=batch_size, seed=100),\n",
        "                            steps_per_epoch=len(train_imgs) // batch_size,\n",
        "                            \n",
        "                            validation_data = (val_imgs, val_targets),\n",
        "                            validation_steps=len(val_imgs) // batch_size,\n",
        "                            \n",
        "                            epochs=num_epochs,\n",
        "                            \n",
        "                            class_weight={0:5, 1:13, 2:1}, # experimenting\n",
        "                            \n",
        "                            callbacks=[model_save_cb, early_stop_cb],\n",
        "                            \n",
        "                            verbose=2\n",
        "                            )"
      ],
      "execution_count": null,
      "outputs": [
        {
          "output_type": "stream",
          "text": [
            "Epoch 1/100\n"
          ],
          "name": "stdout"
        }
      ]
    },
    {
      "cell_type": "code",
      "metadata": {
        "id": "wMxk61_1R1Vr"
      },
      "source": [
        "# printing all the maximum scores\n",
        "max(history_vgg19.history['val_recall']), max(history_vgg19.history['val_macro_f1']), max(history_vgg19.history['val_weighted_f1']), max(history_vgg19.history['val_accuracy'])"
      ],
      "execution_count": null,
      "outputs": []
    },
    {
      "cell_type": "code",
      "metadata": {
        "id": "5BO9Qq8JR8nn"
      },
      "source": [
        "train_stats = pd.DataFrame(history_vgg19.history)\n",
        "\n",
        "# looking at the epochs that had best recall and macro-f1 scores for validaiton set\n",
        "train_stats.sort_values(by=['val_recall'], inplace=False, ascending=False).head()"
      ],
      "execution_count": null,
      "outputs": []
    },
    {
      "cell_type": "code",
      "metadata": {
        "id": "z65fN_VeSHkj"
      },
      "source": [
        "train_stats.plot(y=['val_recall', 'recall'], kind=\"line\")"
      ],
      "execution_count": null,
      "outputs": []
    },
    {
      "cell_type": "code",
      "metadata": {
        "id": "VMfVYl3tSLwy"
      },
      "source": [
        "train_stats.plot(y=['val_macro_f1', 'macro_f1'], kind=\"line\")"
      ],
      "execution_count": null,
      "outputs": []
    },
    {
      "cell_type": "code",
      "metadata": {
        "id": "CU9wqaIhSUdz"
      },
      "source": [
        "train_stats.plot(y=['val_weighted_f1', 'weighted_f1'], kind=\"line\")"
      ],
      "execution_count": null,
      "outputs": []
    },
    {
      "cell_type": "code",
      "metadata": {
        "id": "P9ILmt0BSZaV"
      },
      "source": [
        "train_stats.plot(y=['val_accuracy', 'accuracy'], kind=\"line\")"
      ],
      "execution_count": null,
      "outputs": []
    },
    {
      "cell_type": "code",
      "metadata": {
        "id": "UxOc3JhxSeuw"
      },
      "source": [
        "train_stats.plot(y=['val_loss', 'loss'], kind=\"line\")"
      ],
      "execution_count": null,
      "outputs": []
    },
    {
      "cell_type": "code",
      "metadata": {
        "id": "LnRBXV_DShex"
      },
      "source": [
        "train_stats.plot(y=['val_precision', 'precision'], kind=\"line\")"
      ],
      "execution_count": null,
      "outputs": []
    },
    {
      "cell_type": "code",
      "metadata": {
        "id": "WYTr-_fySljQ"
      },
      "source": [
        "very_good_epochs = []\n",
        "for col in ['val_recall', 'val_accuracy','val_macro_f1', 'val_precision', 'val_weighted_f1']:\n",
        "    epoch = train_stats.loc[:,col].argmax()\n",
        "    very_good_epochs.append(epoch)\n",
        "    print(train_stats.loc[epoch, ['val_recall', 'val_accuracy','val_macro_f1', 'val_weighted_f1']])\n",
        "    print()"
      ],
      "execution_count": null,
      "outputs": []
    },
    {
      "cell_type": "code",
      "metadata": {
        "id": "Rx4EqCkDSo58"
      },
      "source": [
        "# looking at all the rows with highest results for respective metric\n",
        "good_results = train_stats.loc[set(very_good_epochs),\n",
        "                               ['val_recall', 'val_accuracy','val_macro_f1', 'val_weighted_f1', 'val_precision']]\n",
        "\n",
        "# since recall is my primary metric\n",
        "good_results.sort_values(by=['val_recall', 'val_accuracy', 'val_macro_f1'], ascending=False, inplace=True)\n",
        "good_results"
      ],
      "execution_count": null,
      "outputs": []
    },
    {
      "cell_type": "code",
      "metadata": {
        "id": "uAJgx0QhSuBq"
      },
      "source": [
        "models_not_to_delete = []\n",
        "for epoch in list(np.array(good_results.index)):\n",
        "    good_vals = good_results.loc[epoch, ['val_recall', 'val_accuracy']].values\n",
        "    best_model_loc = f'{save_vgg19}vgg_19-epoch{epoch+1:03d}-recall-{good_vals[0]:.5f}-acc-{good_vals[1]:.5f}.h5'\n",
        "    print(best_model_loc)\n",
        "    models_not_to_delete.append(best_model_loc)\n",
        "    model_2 = None\n",
        "    del model_2\n",
        "    model_2 = None\n",
        "    try:\n",
        "        model_2 = Model(inputs=vgg19_base.input, outputs=inner)\n",
        "        model_2.load_weights(filepath=best_model_loc)\n",
        "        val_preds = model_2.predict(val_imgs, batch_size=32)\n",
        "        val_preds = np.argmax(val_preds, axis=1)\n",
        "        print(classification_report(y_true=val_targets.argmax(axis=1), y_pred=val_preds, target_names=['without mask', 'incorrectly worn', 'with mask']))\n",
        "    except OSError:\n",
        "        print('file not found')"
      ],
      "execution_count": null,
      "outputs": []
    },
    {
      "cell_type": "code",
      "metadata": {
        "id": "JBGLV9NATAL5"
      },
      "source": [
        "models_not_to_delete"
      ],
      "execution_count": null,
      "outputs": []
    },
    {
      "cell_type": "code",
      "metadata": {
        "id": "9z5G6WPcQkEi"
      },
      "source": [
        "files.download('/content/VGG19/vgg_19-epoch047-recall-0.94847-acc-0.95215.h5')\n",
        "files.download('/content/VGG19/vgg_19-epoch062-recall-0.94724-acc-0.94847.h5')\n",
        "files.download('/content/VGG19/vgg_19-epoch065-recall-0.94356-acc-0.94724.h5')\n",
        "files.download('/content/VGG19/vgg_19-epoch007-recall-0.90061-acc-0.93129.h5')"
      ],
      "execution_count": null,
      "outputs": []
    },
    {
      "cell_type": "code",
      "metadata": {
        "id": "siXCq5FVQjnz"
      },
      "source": [
        "from tensorflow.keras.applications.resnet50 import preprocess_input, decode_predictions\n",
        "from tensorflow.keras.preprocessing import image\n",
        "img = image.load_img('/Hemakshi Janyani.png', target_size=(224, 224))"
      ],
      "execution_count": null,
      "outputs": []
    },
    {
      "cell_type": "code",
      "metadata": {
        "id": "c0ay6WMriLC7"
      },
      "source": [
        "img"
      ],
      "execution_count": null,
      "outputs": []
    },
    {
      "cell_type": "code",
      "metadata": {
        "id": "Z_vdAoSARYZ2"
      },
      "source": [
        "img_array = image.img_to_array(img)\n",
        "img_batch = np.expand_dims(img_array, axis=0)"
      ],
      "execution_count": null,
      "outputs": []
    },
    {
      "cell_type": "code",
      "metadata": {
        "id": "8oC_-dJdjihb"
      },
      "source": [
        "img_batch"
      ],
      "execution_count": null,
      "outputs": []
    },
    {
      "cell_type": "code",
      "metadata": {
        "id": "ucA4d2rDRfm0"
      },
      "source": [
        "img_preprocessed = preprocess_input(img_batch)"
      ],
      "execution_count": null,
      "outputs": []
    },
    {
      "cell_type": "code",
      "metadata": {
        "id": "K_gTfz9TiSxR"
      },
      "source": [
        "img_preprocessed"
      ],
      "execution_count": null,
      "outputs": []
    },
    {
      "cell_type": "code",
      "metadata": {
        "id": "GNooiO_9eZG0"
      },
      "source": [
        "prediction = model_2.predict(img_preprocessed)"
      ],
      "execution_count": null,
      "outputs": []
    },
    {
      "cell_type": "code",
      "metadata": {
        "id": "aHTY_B6cfJWa"
      },
      "source": [
        "prediction"
      ],
      "execution_count": null,
      "outputs": []
    },
    {
      "cell_type": "code",
      "metadata": {
        "id": "s7ecBGGbOMl8"
      },
      "source": [
        ""
      ],
      "execution_count": null,
      "outputs": []
    }
  ]
}